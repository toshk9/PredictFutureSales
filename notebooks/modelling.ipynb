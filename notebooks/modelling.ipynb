{
 "cells": [
  {
   "cell_type": "code",
   "execution_count": 1,
   "metadata": {},
   "outputs": [
    {
     "name": "stderr",
     "output_type": "stream",
     "text": [
      "2024-03-18 13:08:23.810006: E external/local_xla/xla/stream_executor/cuda/cuda_dnn.cc:9261] Unable to register cuDNN factory: Attempting to register factory for plugin cuDNN when one has already been registered\n",
      "2024-03-18 13:08:23.810038: E external/local_xla/xla/stream_executor/cuda/cuda_fft.cc:607] Unable to register cuFFT factory: Attempting to register factory for plugin cuFFT when one has already been registered\n",
      "2024-03-18 13:08:23.810978: E external/local_xla/xla/stream_executor/cuda/cuda_blas.cc:1515] Unable to register cuBLAS factory: Attempting to register factory for plugin cuBLAS when one has already been registered\n",
      "2024-03-18 13:08:23.816692: I tensorflow/core/platform/cpu_feature_guard.cc:182] This TensorFlow binary is optimized to use available CPU instructions in performance-critical operations.\n",
      "To enable the following instructions: AVX2 FMA, in other operations, rebuild TensorFlow with the appropriate compiler flags.\n",
      "2024-03-18 13:08:24.576804: W tensorflow/compiler/tf2tensorrt/utils/py_utils.cc:38] TF-TRT Warning: Could not find TensorRT\n"
     ]
    }
   ],
   "source": [
    "import sys\n",
    "sys.path.append(\"../\")\n",
    "\n",
    "from src.modelling.feature_extraction import Feature_Extraction as FE\n",
    "from src.modelling.data_validation import Data_Validation as DV\n",
    "from src.modelling.model_error_analysis import ModelErrorAnalysis as MEA\n",
    "\n",
    "from src.data.etl_layer import ETL\n",
    "from src.data.eda_layer import EDA"
   ]
  },
  {
   "cell_type": "markdown",
   "metadata": {},
   "source": [
    "# Data preprocessing"
   ]
  },
  {
   "cell_type": "code",
   "execution_count": 2,
   "metadata": {},
   "outputs": [
    {
     "name": "stdout",
     "output_type": "stream",
     "text": [
      "\n",
      "2935849 rows and 6 columns has been read from sales_train.csv\n",
      "\n",
      "306477 outliers were found for the item_cnt_day column.\n",
      "\n",
      "306477 outliers in column item_cnt_day processed.\n",
      "\n",
      "Number of rows with missing values: 0\n",
      "\n",
      "0 rows with N/A values processed.\n",
      "\n",
      "Number of conflicting or duplicated rows: 6\n",
      "\n",
      "6 inconsistent or duplicated rows processed.\n",
      "\n",
      "Сolumns with presumably the wrong data type: \n",
      "not numeric type columns: [],\n",
      "not date type columns: ['date'],\n",
      "not string type columns: []\n",
      "\n",
      "DataFrame column types processed.\n"
     ]
    }
   ],
   "source": [
    "# Raw dataset load and processing\n",
    "\n",
    "sales_etl = ETL(\"../data/raw/sales_train.csv\")\n",
    "\n",
    "sales_etl.transform([\"item_cnt_day\"], [\"item_cnt_day\"])\n",
    "sales_df = sales_etl.get_data()"
   ]
  },
  {
   "cell_type": "code",
   "execution_count": 3,
   "metadata": {},
   "outputs": [
    {
     "name": "stdout",
     "output_type": "stream",
     "text": [
      "\n",
      "1609124 rows and 4 columns has been read from monthly_sales_full_processed.csv\n",
      "\n",
      "Сolumns with presumably the wrong data type: \n",
      "not numeric type columns: [],\n",
      "not date type columns: ['month'],\n",
      "not string type columns: []\n",
      "\n",
      "DataFrame column types processed.\n"
     ]
    }
   ],
   "source": [
    "# loading the full processed dataset motnhly_sales and type conversion for 'month' column\n",
    "monthly_df_etl = ETL(data_path=\"../data/processed/monthly_sales_full_processed.csv\")\n",
    "monthly_df_etl.data_type_conversion()\n",
    "monthly_df = monthly_df_etl.get_data()"
   ]
  },
  {
   "cell_type": "markdown",
   "metadata": {},
   "source": [
    "## Feature Extraction"
   ]
  },
  {
   "cell_type": "code",
   "execution_count": 8,
   "metadata": {},
   "outputs": [
    {
     "data": {
      "text/html": [
       "<div>\n",
       "<style scoped>\n",
       "    .dataframe tbody tr th:only-of-type {\n",
       "        vertical-align: middle;\n",
       "    }\n",
       "\n",
       "    .dataframe tbody tr th {\n",
       "        vertical-align: top;\n",
       "    }\n",
       "\n",
       "    .dataframe thead th {\n",
       "        text-align: right;\n",
       "    }\n",
       "</style>\n",
       "<table border=\"1\" class=\"dataframe\">\n",
       "  <thead>\n",
       "    <tr style=\"text-align: right;\">\n",
       "      <th></th>\n",
       "      <th>shop_id</th>\n",
       "      <th>item_id</th>\n",
       "      <th>item_cnt_month</th>\n",
       "      <th>mean_month_price</th>\n",
       "      <th>month_num</th>\n",
       "    </tr>\n",
       "  </thead>\n",
       "  <tbody>\n",
       "    <tr>\n",
       "      <th>0</th>\n",
       "      <td>0</td>\n",
       "      <td>32</td>\n",
       "      <td>1.870712</td>\n",
       "      <td>221.0</td>\n",
       "      <td>1</td>\n",
       "    </tr>\n",
       "    <tr>\n",
       "      <th>1</th>\n",
       "      <td>0</td>\n",
       "      <td>33</td>\n",
       "      <td>3.000000</td>\n",
       "      <td>347.0</td>\n",
       "      <td>1</td>\n",
       "    </tr>\n",
       "    <tr>\n",
       "      <th>2</th>\n",
       "      <td>0</td>\n",
       "      <td>35</td>\n",
       "      <td>1.000000</td>\n",
       "      <td>247.0</td>\n",
       "      <td>1</td>\n",
       "    </tr>\n",
       "    <tr>\n",
       "      <th>3</th>\n",
       "      <td>0</td>\n",
       "      <td>43</td>\n",
       "      <td>1.000000</td>\n",
       "      <td>221.0</td>\n",
       "      <td>1</td>\n",
       "    </tr>\n",
       "    <tr>\n",
       "      <th>4</th>\n",
       "      <td>0</td>\n",
       "      <td>51</td>\n",
       "      <td>2.000000</td>\n",
       "      <td>128.5</td>\n",
       "      <td>1</td>\n",
       "    </tr>\n",
       "  </tbody>\n",
       "</table>\n",
       "</div>"
      ],
      "text/plain": [
       "   shop_id  item_id  item_cnt_month  mean_month_price  month_num\n",
       "0        0       32        1.870712             221.0          1\n",
       "1        0       33        3.000000             347.0          1\n",
       "2        0       35        1.000000             247.0          1\n",
       "3        0       43        1.000000             221.0          1\n",
       "4        0       51        2.000000             128.5          1"
      ]
     },
     "execution_count": 8,
     "metadata": {},
     "output_type": "execute_result"
    }
   ],
   "source": [
    "train_df_fe = FE(sales_df, monthly_df)\n",
    "train_df = train_df_fe.get_fe_df()\n",
    "train_df.head()"
   ]
  },
  {
   "cell_type": "code",
   "execution_count": null,
   "metadata": {},
   "outputs": [],
   "source": [
    "# Feature"
   ]
  }
 ],
 "metadata": {
  "kernelspec": {
   "display_name": "Python 3",
   "language": "python",
   "name": "python3"
  },
  "language_info": {
   "codemirror_mode": {
    "name": "ipython",
    "version": 3
   },
   "file_extension": ".py",
   "mimetype": "text/x-python",
   "name": "python",
   "nbconvert_exporter": "python",
   "pygments_lexer": "ipython3",
   "version": "3.10.12"
  }
 },
 "nbformat": 4,
 "nbformat_minor": 2
}
